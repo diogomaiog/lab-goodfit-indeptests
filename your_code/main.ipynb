{
 "cells": [
  {
   "cell_type": "markdown",
   "metadata": {},
   "source": [
    "## Question 1\n",
    "The following table indicates the number of 6-point scores in an American rugby match in the 1979 season.\n",
    "\n",
    "![](table1.png)\n",
    "\n",
    "Based on these results, we create a Poisson distribution with the sample mean parameter  = 2.435. Is there any reason to believe that at a .05 level the number of scores is a Poisson variable?"
   ]
  },
  {
   "cell_type": "code",
   "execution_count": 34,
   "metadata": {},
   "outputs": [
    {
     "name": "stdout",
     "output_type": "stream",
     "text": [
      "[ 39.24379068  95.5586303  116.34263239  94.43143662  57.48513704\n",
      "  27.99526174  11.36141039   3.95214776]\n"
     ]
    }
   ],
   "source": [
    "# your answer here\n",
    "# I think I have to build a poisson distribution with the sample mean parameter = 2.435 and run a chi-squared test to find\n",
    "# out if the expected values are similar to the observed values (the frequency in each class).\n",
    "import numpy as np\n",
    "from scipy.stats import poisson\n",
    "mu = 2.435\n",
    "\n",
    "# pmf(k, mu, loc=0)\n",
    "# in poisson pmf, k represents the intervals, so I guess we have 8 intervals?\n",
    "# it's independent variable of my function\n",
    "\n",
    "# I don't know how to use loc. I understand how it works on gaussian dist.but in this instance I have no idea.\n",
    "# let's go down the rabbit hole\n",
    "# https://stackoverflow.com/questions/48409212/what-is-the-meaning-of-mu-loc-and-size-in-the-scipy-stats-poisson\n",
    "# «loc is the N-dimensional reference point of the distribution, that centroid being chosen appropriately to the function. \n",
    "# For this application, it's simply the left end of the desired distribution (scalar). This defaults to 0, and is only \n",
    "# changed if your application starts at something other than 0.»\n",
    "# OK, so since our first class is zero I think we'll do fine leaving it to default\n",
    "\n",
    "#poisson_dist = poisson.pmf(k, mu)\n",
    "poisson_pmfs = np.array([poisson.pmf(k, mu)*448 for k in range(0,8)])\n",
    "print(poisson_pmfs) # I multiply by the total to be able to compare the two lists (I could have converted the ibserved one instead)\n"
   ]
  },
  {
   "cell_type": "code",
   "execution_count": 35,
   "metadata": {},
   "outputs": [
    {
     "data": {
      "text/plain": [
       "array([ 35,  99, 104, 110,  62,  25,  10,   3])"
      ]
     },
     "execution_count": 35,
     "metadata": {},
     "output_type": "execute_result"
    }
   ],
   "source": [
    "# The output looks good... let's compare it with the observed values\n",
    "observed = np.array([35,99,104,110,62,25,10,3])\n",
    "observed"
   ]
  },
  {
   "cell_type": "code",
   "execution_count": 36,
   "metadata": {},
   "outputs": [
    {
     "data": {
      "text/plain": [
       "Power_divergenceResult(statistic=5.526588649191276, pvalue=0.4782489482044354)"
      ]
     },
     "execution_count": 36,
     "metadata": {},
     "output_type": "execute_result"
    }
   ],
   "source": [
    "import scipy.stats as st\n",
    "\n",
    "# What is the number of ddof?\n",
    "# https://www.lboro.ac.uk/media/media/schoolanddepartments/mlsc/downloads/1_4_gofit.pdf\n",
    "# The number of degrees of freedom is k - p - 1\n",
    "# Here we have 8 classes and we have p = 1 because we had to estimate one parameter (the mean)\n",
    "\n",
    "st.chisquare(observed, poisson_pmfs, ddof = 1)"
   ]
  },
  {
   "cell_type": "code",
   "execution_count": null,
   "metadata": {},
   "outputs": [],
   "source": [
    "# since the null hypothesis is 'that the categorical data has the given frequencies.' and that our pvalue is\n",
    "# higher than 0.05  we are confident that the number of scores follows a Poisson variable."
   ]
  },
  {
   "cell_type": "markdown",
   "metadata": {},
   "source": [
    "## BONUS/OPTIONAL - Question 2\n",
    "Let's analyze a discrete distribution. To analyze the number of defective items in a factory in the city of Medellín, we took a random sample of n = 60 articles and observed the number of defectives in the following table:\n",
    "\n",
    "![](table2.png)\n",
    "\n",
    "A poissón distribution was proposed since it is defined for x = 0,1,2,3, .... using the following model:\n",
    "\n",
    "![](image1.png)\n",
    "\n",
    "For some extra insights check the following link: https://online.stat.psu.edu/stat504/node/63/ \n",
    "\n",
    "Does the distribution of defective items follow this distribution?"
   ]
  },
  {
   "cell_type": "code",
   "execution_count": null,
   "metadata": {},
   "outputs": [],
   "source": [
    "# your code here"
   ]
  },
  {
   "cell_type": "markdown",
   "metadata": {},
   "source": [
    "## Question 3\n",
    "A quality control engineer takes a sample of 10 tires that come out of an assembly line, and would like to verify on the basis of the data that follows, if the number of tires with defects observed over 200 days, if it is true that 5% of all tires have defects (that is, if the sample comes from a binomial population with n = 10 and p = 0.05). \n",
    "\n",
    "![](table3.png)\n"
   ]
  },
  {
   "cell_type": "code",
   "execution_count": 37,
   "metadata": {},
   "outputs": [
    {
     "name": "stdout",
     "output_type": "stream",
     "text": [
      "[119.74738785  63.02494097  17.22767118]\n",
      "[138  53   9]\n"
     ]
    },
    {
     "data": {
      "text/plain": [
       "Power_divergenceResult(statistic=8.30617951954273, pvalue=0.015715783395951474)"
      ]
     },
     "execution_count": 37,
     "metadata": {},
     "output_type": "execute_result"
    }
   ],
   "source": [
    "# your answer here\n",
    "n = 10\n",
    "p = 0.05\n",
    "\n",
    "# let's build the distribuiton \n",
    "# binom takes n and p as shape parameters.\n",
    "binom_pmfs = st.binom.pmf([0,1], n, p)\n",
    "binom_pmfs = np.append(binom_pmfs,1 - sum(binom_pmfs)) # the third bucket 2 or more\n",
    "binom_pmfs = binom_pmfs*200 # to 'de-standardize' the table\n",
    "print(binom_pmfs)\n",
    "# the observations of the table above\n",
    "observed = np.array([138,53,9])\n",
    "print(observed)\n",
    "# the actual test \n",
    "st.chisquare(observed, binom_pmfs) # there are no parameters to estimate, no adjustment needed to dof"
   ]
  },
  {
   "cell_type": "code",
   "execution_count": null,
   "metadata": {},
   "outputs": [],
   "source": [
    "# The sample follows a binomial distribution, the pvalue is lower thant 5% and we cannot reject the null hypothesis."
   ]
  },
  {
   "cell_type": "markdown",
   "metadata": {},
   "source": [
    "## Question 4\n",
    "A researcher gathers information about the patterns of Physical Activity of children in the fifth grade of primary school of a public school. He defines three categories of physical activity (Low, Medium, High). He also inquires about the regular consumption of sugary drinks at school, and defines two categories (Yes = consumed, No = not consumed). We would like to evaluate if there is an association between patterns of physical activity and the consumption of sugary drinks for the children of this school, at a level of 5% significance. The results are in the following table: \n",
    "\n",
    "![](table4.png)"
   ]
  },
  {
   "cell_type": "code",
   "execution_count": 39,
   "metadata": {},
   "outputs": [
    {
     "data": {
      "text/plain": [
       "(10.712198008709638,\n",
       " 0.004719280137040844,\n",
       " 2,\n",
       " array([[24.08421053, 19.91578947],\n",
       "        [19.70526316, 16.29473684],\n",
       "        [ 8.21052632,  6.78947368]]))"
      ]
     },
     "execution_count": 39,
     "metadata": {},
     "output_type": "execute_result"
    }
   ],
   "source": [
    "#your answer here\n",
    "# Is this a contigency table? It looks like one.\n",
    "# From what I read this is a contingency table.\n",
    "# lets use chi2_contingency\n",
    "# This function computes the chi-square statistic and p-value for the hypothesis test of independence of the observed \n",
    "# frequencies in the contingency table observed.\n",
    "st.chi2_contingency([[32,12],[14,22],[6,9]])\n"
   ]
  },
  {
   "cell_type": "code",
   "execution_count": null,
   "metadata": {},
   "outputs": [],
   "source": [
    "# There is an association here is an association between patterns of physical activity and the consumption of sugary drinks \n",
    "# for the children of this school. The pvalue is lower than 5%."
   ]
  }
 ],
 "metadata": {
  "kernelspec": {
   "display_name": "Python 3",
   "language": "python",
   "name": "python3"
  },
  "language_info": {
   "codemirror_mode": {
    "name": "ipython",
    "version": 3
   },
   "file_extension": ".py",
   "mimetype": "text/x-python",
   "name": "python",
   "nbconvert_exporter": "python",
   "pygments_lexer": "ipython3",
   "version": "3.8.3"
  }
 },
 "nbformat": 4,
 "nbformat_minor": 2
}
